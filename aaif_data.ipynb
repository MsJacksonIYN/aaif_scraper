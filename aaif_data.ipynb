{
 "cells": [
  {
   "cell_type": "code",
   "execution_count": 37,
   "metadata": {},
   "outputs": [],
   "source": [
    "import requests\n",
    "from bs4 import BeautifulSoup\n",
    "import pandas as pd\n",
    "import time\n"
   ]
  },
  {
   "cell_type": "code",
   "execution_count": 43,
   "metadata": {},
   "outputs": [],
   "source": [
    "def get_data(init_url, max_page):\n",
    "    for i in range(1,max_page+1):\n",
    "        url = init_url+str(i)\n",
    "\n",
    "        df = pd.read_html(url)\n",
    "\n",
    "        if i == 1:\n",
    "            data = df[2]\n",
    "        else:\n",
    "            data = pd.concat([data, df[2]])\n",
    "            \n",
    "        print('Collected page ', i)\n",
    "        time.sleep(5)\n",
    "    \n",
    "    return data      "
   ]
  },
  {
   "cell_type": "code",
   "execution_count": 46,
   "metadata": {},
   "outputs": [
    {
     "name": "stdout",
     "output_type": "stream",
     "text": [
      "Collected page  1\n",
      "Collected page  2\n",
      "Collected page  3\n",
      "Collected page  4\n",
      "Collected page  5\n",
      "Collected page  6\n",
      "Collected page  7\n",
      "Collected page  8\n",
      "Collected page  9\n",
      "Collected page  10\n",
      "Collected page  11\n",
      "Collected page  12\n",
      "Collected page  13\n",
      "Collected page  14\n",
      "Collected page  15\n",
      "Collected page  16\n",
      "Collected page  17\n",
      "Collected page  18\n",
      "Collected page  19\n",
      "Collected page  20\n",
      "Collected page  21\n",
      "Collected page  22\n",
      "Collected page  23\n",
      "Collected page  24\n",
      "Collected page  25\n",
      "Collected page  26\n",
      "Collected page  27\n",
      "Collected page  28\n",
      "Collected page  29\n",
      "Collected page  30\n",
      "Collected page  31\n",
      "Collected page  32\n",
      "Collected page  33\n",
      "Collected page  34\n",
      "Collected page  35\n",
      "Collected page  36\n",
      "Collected page  37\n",
      "Collected page  38\n",
      "Collected page  39\n",
      "Collected page  40\n",
      "Collected page  41\n",
      "Collected page  42\n",
      "Collected page  43\n",
      "Collected page  44\n",
      "Collected page  45\n",
      "Collected page  46\n",
      "Collected page  47\n",
      "Collected page  48\n",
      "Collected page  49\n",
      "Collected page  50\n",
      "Collected page  51\n",
      "Collected page  52\n",
      "Collected page  53\n",
      "Collected page  54\n",
      "Collected page  55\n",
      "Collected page  56\n"
     ]
    }
   ],
   "source": [
    "test_dataset = get_data('https://www.iaaf.org/records/toplists/sprints/100-metres/outdoor/women/senior/2019?page=',56)"
   ]
  },
  {
   "cell_type": "code",
   "execution_count": 51,
   "metadata": {},
   "outputs": [],
   "source": [
    "test_dataset.to_csv('2019_sprints_100m_outdoor_men_senior.csv')"
   ]
  },
  {
   "cell_type": "code",
   "execution_count": null,
   "metadata": {},
   "outputs": [],
   "source": []
  }
 ],
 "metadata": {
  "kernelspec": {
   "display_name": "Python 3",
   "language": "python",
   "name": "python3"
  },
  "language_info": {
   "codemirror_mode": {
    "name": "ipython",
    "version": 3
   },
   "file_extension": ".py",
   "mimetype": "text/x-python",
   "name": "python",
   "nbconvert_exporter": "python",
   "pygments_lexer": "ipython3",
   "version": "3.7.2"
  },
  "toc": {
   "base_numbering": 1,
   "nav_menu": {},
   "number_sections": true,
   "sideBar": true,
   "skip_h1_title": false,
   "title_cell": "Table of Contents",
   "title_sidebar": "Contents",
   "toc_cell": false,
   "toc_position": {},
   "toc_section_display": true,
   "toc_window_display": false
  }
 },
 "nbformat": 4,
 "nbformat_minor": 2
}
